{
 "cells": [
  {
   "cell_type": "markdown",
   "metadata": {},
   "source": [
    "# Week 2 task 1"
   ]
  },
  {
   "cell_type": "code",
   "execution_count": 14,
   "metadata": {},
   "outputs": [],
   "source": [
    "import numpy as np\n",
    "import re\n",
    "from scipy import spatial"
   ]
  },
  {
   "cell_type": "code",
   "execution_count": 15,
   "metadata": {},
   "outputs": [],
   "source": [
    "def make_unic_arr(text):\n",
    "    text_set = set()\n",
    "    for line in text:\n",
    "        for word in line:\n",
    "            text_set.add(word)\n",
    "    text_set = list(text_set)    \n",
    "    return text_set"
   ]
  },
  {
   "cell_type": "code",
   "execution_count": 16,
   "metadata": {},
   "outputs": [],
   "source": [
    "f = open ('/home/maksim/lyubaxapro/ml/2week/sentences.txt', 'r')\n",
    "sentences = [line.lower() for line in f]"
   ]
  },
  {
   "cell_type": "code",
   "execution_count": 17,
   "metadata": {},
   "outputs": [],
   "source": [
    "text = []\n",
    "\n",
    "for line in sentences:\n",
    "    text.append(re.split('[^a-z]', line))\n",
    "    \n",
    "for arr in text:\n",
    "    while '' in arr:\n",
    "        arr.remove('')"
   ]
  },
  {
   "cell_type": "code",
   "execution_count": 18,
   "metadata": {},
   "outputs": [],
   "source": [
    "text_set = make_unic_arr(text)\n",
    "matrix = [[0] * len(text_set) for i in range(len(text))]\n",
    "\n",
    "i = 0\n",
    "for line in text:\n",
    "    j = 0\n",
    "    for word in text_set:\n",
    "        matrix[i][j] = line.count(word)\n",
    "        j += 1\n",
    "    i += 1"
   ]
  },
  {
   "cell_type": "code",
   "execution_count": 20,
   "metadata": {},
   "outputs": [],
   "source": [
    "# max1 < max2\n",
    "min1 = 1000  \n",
    "min2 = 1000\n",
    "index1 = -1\n",
    "index2 = -1\n",
    "for i in range(1, len(matrix)):\n",
    "    distance = spatial.distance.cosine(matrix[0], matrix[i])\n",
    "    if distance < min1:\n",
    "        min2 = min1\n",
    "        index2 = index1\n",
    "        min1 = distance\n",
    "        index1 = i\n",
    "    elif distance < min2:\n",
    "        min2 = distance\n",
    "        index2 = i\n",
    "f = open('submission_1.txt', 'w')\n",
    "f.write(str(index1) + \" \" + str(index2))\n",
    "f.close()"
   ]
  },
  {
   "cell_type": "code",
   "execution_count": null,
   "metadata": {
    "scrolled": true
   },
   "outputs": [],
   "source": []
  },
  {
   "cell_type": "code",
   "execution_count": null,
   "metadata": {},
   "outputs": [],
   "source": []
  }
 ],
 "metadata": {
  "kernelspec": {
   "display_name": "Python 3",
   "language": "python",
   "name": "python3"
  },
  "language_info": {
   "codemirror_mode": {
    "name": "ipython",
    "version": 3
   },
   "file_extension": ".py",
   "mimetype": "text/x-python",
   "name": "python",
   "nbconvert_exporter": "python",
   "pygments_lexer": "ipython3",
   "version": "3.7.4"
  }
 },
 "nbformat": 4,
 "nbformat_minor": 2
}
